{
  "nbformat": 4,
  "nbformat_minor": 0,
  "metadata": {
    "colab": {
      "provenance": [],
      "authorship_tag": "ABX9TyMigfAJUsC1ABVwMnsF1t+G",
      "include_colab_link": true
    },
    "kernelspec": {
      "name": "python3",
      "display_name": "Python 3"
    },
    "language_info": {
      "name": "python"
    }
  },
  "cells": [
    {
      "cell_type": "markdown",
      "metadata": {
        "id": "view-in-github",
        "colab_type": "text"
      },
      "source": [
        "<a href=\"https://colab.research.google.com/github/shreenahMac/Assignment2-ISYS2001/blob/main/Development_report_shreenah.ipynb\" target=\"_parent\"><img src=\"https://colab.research.google.com/assets/colab-badge.svg\" alt=\"Open In Colab\"/></a>"
      ]
    },
    {
      "cell_type": "markdown",
      "source": [
        "**Downloading Enron Email Data**\n"
      ],
      "metadata": {
        "id": "SiHW4gSbQeDQ"
      }
    },
    {
      "cell_type": "code",
      "source": [
        "#using the wget! command to download the enron.db file \n",
        "#next is to set the output file as enron.db \n",
        "#using the URL of the enron.db "
      ],
      "metadata": {
        "id": "7DgP-WSbQrX8"
      },
      "execution_count": null,
      "outputs": []
    },
    {
      "cell_type": "markdown",
      "source": [
        "**Establish Connection to the SQLite database**"
      ],
      "metadata": {
        "id": "BKogEGojQ5Uz"
      }
    },
    {
      "cell_type": "code",
      "source": [
        "#import sqlite3 module to connect to the sqlite database "
      ],
      "metadata": {
        "id": "KbIJtQYUQ-zq"
      },
      "execution_count": null,
      "outputs": []
    },
    {
      "cell_type": "code",
      "source": [
        "#Establish a connection between enron.db and the SQLite module using the sqlite.connect()\n",
        "#save the above connection in the variable \"conn\" "
      ],
      "metadata": {
        "id": "FzdPugh3RF0H"
      },
      "execution_count": null,
      "outputs": []
    },
    {
      "cell_type": "code",
      "source": [
        "#create a cursor function in order to execute SQL queries on the database \n",
        "#create a cursor function using the 'conn.cursor()' method \n",
        "#save the cursor function in the variable \"cur\""
      ],
      "metadata": {
        "id": "_lyCaqaGRVzw"
      },
      "execution_count": null,
      "outputs": []
    },
    {
      "cell_type": "markdown",
      "source": [
        "**Check schema of database**"
      ],
      "metadata": {
        "id": "Ki5qRqlcRr6E"
      }
    },
    {
      "cell_type": "code",
      "source": [
        "#write an SQL query to retrieve data from the enron.db database \n",
        "#proceed by writing the codes \n",
        "\"SELECT name FROM sqlite_master WHERE type='table';\n",
        "#Execute the sql query using a cursor function 'cur'\n",
        "#fetch all the results using cur.fetchall() method "
      ],
      "metadata": {
        "id": "cyvXTvI2Rvbm"
      },
      "execution_count": null,
      "outputs": []
    },
    {
      "cell_type": "markdown",
      "source": [
        "**Check Schema of tables**"
      ],
      "metadata": {
        "id": "YQiD0wrbTnS1"
      }
    },
    {
      "cell_type": "code",
      "source": [
        "#write an SQL using the SQLite PRAGMA command \n",
        "#INSERT table name \"employeelist\"/ \"message\"/ \"recipient info\"/\"referenceinfo\" into the PRAGMA command \n",
        "#EXECUTE  the SQL queries using a cursor function 'cur'\n",
        "#Fetch all the results using the cur.fetchall() method."
      ],
      "metadata": {
        "id": "rwIXH6BtT3Tc"
      },
      "execution_count": null,
      "outputs": []
    },
    {
      "cell_type": "markdown",
      "source": [
        "**Email Traffic Overtime**"
      ],
      "metadata": {
        "id": "Vg3eWrljU4dX"
      }
    },
    {
      "cell_type": "code",
      "source": [
        "#import necessary libraries "
      ],
      "metadata": {
        "id": "YeyYTMokU8q3"
      },
      "execution_count": null,
      "outputs": []
    },
    {
      "cell_type": "code",
      "source": [
        "#import pandas library to read SQL queries and convert to dataframe \n",
        "#represent pandas as 'pd' as an alias "
      ],
      "metadata": {
        "id": "lclF0DczWYkc"
      },
      "execution_count": null,
      "outputs": []
    },
    {
      "cell_type": "code",
      "source": [
        "#import seaborn library for more informative statistical visulaisation/graphics\n",
        "#represent seaborn as 'sns' as an alias "
      ],
      "metadata": {
        "id": "MWhf6ccgWmso"
      },
      "execution_count": null,
      "outputs": []
    },
    {
      "cell_type": "code",
      "source": [
        "#import the 'matplotlib.pyplot' module "
      ],
      "metadata": {
        "id": "58amXgsaZsIm"
      },
      "execution_count": null,
      "outputs": []
    },
    {
      "cell_type": "markdown",
      "source": [
        "**check whether the data column in Message contain null values** "
      ],
      "metadata": {
        "id": "Vdni8_zLaKBF"
      }
    },
    {
      "cell_type": "code",
      "source": [
        "#write an sql query which will contain the selection of 'date' column from message table and store it in variable sql "
      ],
      "metadata": {
        "id": "9G-RyffraT53"
      },
      "execution_count": null,
      "outputs": []
    },
    {
      "cell_type": "markdown",
      "source": [
        "**convert to dataframe**"
      ],
      "metadata": {
        "id": "gVzW_cYhaoeX"
      }
    },
    {
      "cell_type": "code",
      "source": [
        "#import pandas library to read sql query \n",
        "#use the function 'read_sql_query()' from the pandas module \n",
        "#set parameters, make use of SQL query's variable 'sql' and the variable 'conn'which makes the database connection\n",
        "#save the 'read_sql_query()', function and its parameters to the variable 'message_df'\n",
        "#print the contents of the Dataframe 'message_df'\n",
        "  "
      ],
      "metadata": {
        "id": "HK7_aSNYauwq"
      },
      "execution_count": null,
      "outputs": []
    },
    {
      "cell_type": "markdown",
      "source": [
        "**Number of emails per day**"
      ],
      "metadata": {
        "id": "zZafIIcwbuNj"
      }
    },
    {
      "cell_type": "code",
      "source": [
        "#write sql query to count number of emails per day \n",
        "#convert this sql query into a dataframe\n",
        "\n",
        "#A table will be provided, from table plot the line graph\n",
        "#use 'olt.subplot()' function from matplotlib library, which will help to generate the x-axis and y-axis \n",
        "#set the figure size to (20,5) and save it as variable 'fig'\n",
        "#make use of seaborn library to create the line plot \n",
        "#use the function 'lineplot()' from the seaborn library \n",
        "#as parameters set 'x=date' and 'y=count' \n",
        "#use the variable 'messageperday_df' as data source \n",
        "#show the line plot by using the function 'show()' from matplotlib library "
      ],
      "metadata": {
        "id": "JAJ8kfgmbxGq"
      },
      "execution_count": null,
      "outputs": []
    },
    {
      "cell_type": "markdown",
      "source": [
        "**Number of emails per week**\n"
      ],
      "metadata": {
        "id": "psR3FLRMdxsO"
      }
    },
    {
      "cell_type": "code",
      "source": [
        "#write sql query to count number of emails per day \n",
        "#convert this sql query into a dataframe\n",
        "\n",
        "#A table will be provided, from table plot the line graph\n",
        "#use 'olt.subplot()' function from matplotlib library, which will help to generate the x-axis and y-axis \n",
        "#set the figure size to (20,5) and save it as variable 'fig'\n",
        "#make use of seaborn library to create the line plot \n",
        "#use the function 'lineplot()' from the seaborn library \n",
        "#as parameters set 'x=date' and 'y=count' \n",
        "#use the variable 'messageperweek_df' as data source \n",
        "#show the line plot by using the function 'show()' from matplotlib library "
      ],
      "metadata": {
        "id": "S6t75c90d3dH"
      },
      "execution_count": null,
      "outputs": []
    },
    {
      "cell_type": "markdown",
      "source": [
        "**Number of emails per month**"
      ],
      "metadata": {
        "id": "JanRflubd9Fn"
      }
    },
    {
      "cell_type": "code",
      "source": [
        "#write sql query to count number of emails per day \n",
        "#convert this sql query into a dataframe\n",
        "\n",
        "#A table will be provided, from table plot the line graph\n",
        "#use 'plt.subplot()' function from matplotlib library, which will help to generate the x-axis and y-axis \n",
        "#set the figure size to (20,5) and save it as variable 'fig'\n",
        "#make use of seaborn library to create the line plot \n",
        "#use the function 'lineplot()' from the seaborn library \n",
        "#as parameters set 'x=date' and 'y=count' \n",
        "#use the variable 'messagepermonth_df' as data source \n",
        "#show the line plot by using the function 'show()' from matplotlib library "
      ],
      "metadata": {
        "id": "4EndTQCUeBg7"
      },
      "execution_count": null,
      "outputs": []
    },
    {
      "cell_type": "markdown",
      "source": [
        "**Top senders and recipients**"
      ],
      "metadata": {
        "id": "-l6KvX5AeKIL"
      }
    },
    {
      "cell_type": "code",
      "source": [
        "#write an sql query to retrieve top senders \n",
        "#Read data from the dataframe into dataframes \n",
        "#Execute the SQL query and store the results in the \"top_senders_df\" dataframe by writing : top_senders_df = pd.read_sql_query(sql_senders, conn) \n",
        "#Output the contents of the \"top_senders_df\" dataframe then proceed with : print(top_senders_df)\n",
        "  \n"
      ],
      "metadata": {
        "id": "Q6IK1L18ee83"
      },
      "execution_count": null,
      "outputs": []
    },
    {
      "cell_type": "code",
      "source": [
        "#Import the required libraries for visualization:\n",
        "#import matplotlib.pyplot as plt in order to plot the required diagram \n",
        "#import seaborn as sns\n",
        "#Set the data variable to the \"top_senders_df\" dataframe: data = top_senders_df\n",
        "\n",
        "#Create a bar plot using seaborn's barplot function: sns.barplot(x=\"count\", y=\"sender\", data=data)\n",
        "# to display the plot: plt.show()"
      ],
      "metadata": {
        "id": "x6SbopNmZk0i"
      },
      "execution_count": null,
      "outputs": []
    },
    {
      "cell_type": "code",
      "source": [
        "#define the sql query to count the number of emails which was received by the recipients\n",
        "#we establish a connection to the \"enron.db\" database\n",
        "#execute the sql query and store the results in the \"top_recipients_df\" dataframe\n",
        "#output the contents of the \"top_recipients_df\" dataframe \n",
        "#we print(top_recipients_df)"
      ],
      "metadata": {
        "id": "6q-P7PTzbtDb"
      },
      "execution_count": null,
      "outputs": []
    },
    {
      "cell_type": "code",
      "source": [
        "#Import the required libraries for visualization:\n",
        "#import matplotlib.pyplot as plt in order to plot the required diagram \n",
        "#import seaborn as sns\n",
        "#Set the data variable to the \"top_recipients_df\" dataframe: data = top_recipients_df\n",
        "\n",
        "#Create a bar plot using seaborn's barplot function: sns.barplot(x=\"count\", y=\"recipient\", data=data)\n",
        "# to display the plot: plt.show()"
      ],
      "metadata": {
        "id": "5a2-YCHVcJPr"
      },
      "execution_count": null,
      "outputs": []
    },
    {
      "cell_type": "markdown",
      "source": [
        "**Email distribution by recipient type**"
      ],
      "metadata": {
        "id": "NddDm3Crc0L2"
      }
    },
    {
      "cell_type": "code",
      "source": [
        "#define the sql query to retrieve recipient types and their count\n",
        "#execute the sql query using the cursor object \n",
        "#store the results of the query in the \"recipient_df\" dataframe\n",
        "#output the contents of the \"recipients_df\" dataframe\n",
        "#print(recipient_df)"
      ],
      "metadata": {
        "id": "2qhugNOLdvTL"
      },
      "execution_count": null,
      "outputs": []
    },
    {
      "cell_type": "code",
      "source": [
        "#create a list of labels for the pie chart:\n",
        "#such as labels = recipient_df['rtype']\n",
        "#create a list of values for the pie chart:\n",
        "#such as values = recipient_df['count']\n",
        "#plot the pie chart using matplotlib's pie function:\n",
        "#write code plt.pie(values,labels=labels, autopct= '%1.1f%%')\n",
        "#set a title for the pie chart: plt.title('distribution of recipient types')\n",
        "#display the plot: plt.show()\n"
      ],
      "metadata": {
        "id": "Y9UwJzgIgLCW"
      },
      "execution_count": null,
      "outputs": []
    },
    {
      "cell_type": "markdown",
      "source": [
        "**Testing for errors**"
      ],
      "metadata": {
        "id": "UiSk-J8Jh0xh"
      }
    },
    {
      "cell_type": "code",
      "source": [
        "#Check whether the data column in Message contain null values\n",
        "sql= \"\"\"\n",
        "SELECT date\n",
        "FROM message\n",
        "\"\"\"\n",
        "#convert to dataframe\n",
        "import pandas as pd\n",
        "message_df = pd.read_sql_query(sql, conn)"
      ],
      "metadata": {
        "colab": {
          "base_uri": "https://localhost:8080/",
          "height": 200
        },
        "id": "KM6g8nmCh7ag",
        "outputId": "053666fc-9525-4b7b-d8fe-80a9d219f441"
      },
      "execution_count": 2,
      "outputs": [
        {
          "output_type": "error",
          "ename": "NameError",
          "evalue": "ignored",
          "traceback": [
            "\u001b[0;31m---------------------------------------------------------------------------\u001b[0m",
            "\u001b[0;31mNameError\u001b[0m                                 Traceback (most recent call last)",
            "\u001b[0;32m<ipython-input-2-e1425cb9a906>\u001b[0m in \u001b[0;36m<cell line: 8>\u001b[0;34m()\u001b[0m\n\u001b[1;32m      6\u001b[0m \u001b[0;31m#convert to dataframe\u001b[0m\u001b[0;34m\u001b[0m\u001b[0;34m\u001b[0m\u001b[0m\n\u001b[1;32m      7\u001b[0m \u001b[0;32mimport\u001b[0m \u001b[0mpandas\u001b[0m \u001b[0;32mas\u001b[0m \u001b[0mpd\u001b[0m\u001b[0;34m\u001b[0m\u001b[0;34m\u001b[0m\u001b[0m\n\u001b[0;32m----> 8\u001b[0;31m \u001b[0mmessage_df\u001b[0m \u001b[0;34m=\u001b[0m \u001b[0mpd\u001b[0m\u001b[0;34m.\u001b[0m\u001b[0mread_sql_query\u001b[0m\u001b[0;34m(\u001b[0m\u001b[0msql\u001b[0m\u001b[0;34m,\u001b[0m \u001b[0mconn\u001b[0m\u001b[0;34m)\u001b[0m\u001b[0;34m\u001b[0m\u001b[0;34m\u001b[0m\u001b[0m\n\u001b[0m",
            "\u001b[0;31mNameError\u001b[0m: name 'conn' is not defined"
          ]
        }
      ]
    },
    {
      "cell_type": "markdown",
      "source": [
        "Here the error i have encountered was a name error that i did not write message_df for the code to run"
      ],
      "metadata": {
        "id": "STTAluStlZiJ"
      }
    },
    {
      "cell_type": "code",
      "source": [
        "#sql query to count number of emails per day\n",
        "sql=\"\"\"\n",
        "\n",
        "SELECT strftime('%Y-%d', date) \n",
        "AS date,\n",
        "COUNT(*) AS count FROM message \n",
        "GROUP BY date\n",
        "\n",
        "\"\"\"\n",
        "#convert in dataframe\n",
        "messageperday_df = pd.read_sql_query(sql, conn)\n",
        "messageperday_df"
      ],
      "metadata": {
        "colab": {
          "base_uri": "https://localhost:8080/",
          "height": 217
        },
        "id": "RvOQGA9JlpCk",
        "outputId": "e5887a2e-c736-4a54-b04a-49c23bac92e6"
      },
      "execution_count": 3,
      "outputs": [
        {
          "output_type": "error",
          "ename": "NameError",
          "evalue": "ignored",
          "traceback": [
            "\u001b[0;31m---------------------------------------------------------------------------\u001b[0m",
            "\u001b[0;31mNameError\u001b[0m                                 Traceback (most recent call last)",
            "\u001b[0;32m<ipython-input-3-971fd0b31b0e>\u001b[0m in \u001b[0;36m<cell line: 11>\u001b[0;34m()\u001b[0m\n\u001b[1;32m      9\u001b[0m \"\"\"\n\u001b[1;32m     10\u001b[0m \u001b[0;31m#convert in dataframe\u001b[0m\u001b[0;34m\u001b[0m\u001b[0;34m\u001b[0m\u001b[0m\n\u001b[0;32m---> 11\u001b[0;31m \u001b[0mmessageperday_df\u001b[0m \u001b[0;34m=\u001b[0m \u001b[0mpd\u001b[0m\u001b[0;34m.\u001b[0m\u001b[0mread_sql_query\u001b[0m\u001b[0;34m(\u001b[0m\u001b[0msql\u001b[0m\u001b[0;34m,\u001b[0m \u001b[0mconn\u001b[0m\u001b[0;34m)\u001b[0m\u001b[0;34m\u001b[0m\u001b[0;34m\u001b[0m\u001b[0m\n\u001b[0m\u001b[1;32m     12\u001b[0m \u001b[0mmessageperday_df\u001b[0m\u001b[0;34m\u001b[0m\u001b[0;34m\u001b[0m\u001b[0m\n",
            "\u001b[0;31mNameError\u001b[0m: name 'conn' is not defined"
          ]
        }
      ]
    },
    {
      "cell_type": "markdown",
      "source": [
        "in my enron_data i was not able to obtain my table in order to plot the line graph messageperday, my error was that, i did not include SELECT strftime('%y-%m-%d') "
      ],
      "metadata": {
        "id": "Yq56XpWJl22W"
      }
    },
    {
      "cell_type": "code",
      "source": [
        "import matplotlib.pyplot as plt\n",
        "import seaborn as sns\n",
        "data = top_senders_df\n",
        "sns.barplot(x=\"count\", y=\"sender\", data=data\n",
        "plt.show()"
      ],
      "metadata": {
        "colab": {
          "base_uri": "https://localhost:8080/",
          "height": 130
        },
        "id": "KhECPqFYoN5A",
        "outputId": "6db866e7-b602-430d-bf5c-7578f82dde02"
      },
      "execution_count": 5,
      "outputs": [
        {
          "output_type": "error",
          "ename": "SyntaxError",
          "evalue": "ignored",
          "traceback": [
            "\u001b[0;36m  File \u001b[0;32m\"<ipython-input-5-341360a22e01>\"\u001b[0;36m, line \u001b[0;32m4\u001b[0m\n\u001b[0;31m    sns.barplot(x=\"count\", y=\"sender\", data=data\u001b[0m\n\u001b[0m               ^\u001b[0m\n\u001b[0;31mSyntaxError\u001b[0m\u001b[0;31m:\u001b[0m '(' was never closed\n"
          ]
        }
      ]
    },
    {
      "cell_type": "markdown",
      "source": [
        "For this section of the code, i could not obtain my bar chart as there was a syntax error, as i did not close ')' "
      ],
      "metadata": {
        "id": "mtAgDFxim7w_"
      }
    },
    {
      "cell_type": "markdown",
      "source": [],
      "metadata": {
        "id": "2lDQlBPXm7qA"
      }
    },
    {
      "cell_type": "code",
      "source": [
        "#create a list of labels for the pie chart \n",
        "labels = list(recipient_df['rtype'])  # Introducing list() to convert the column to a list\n",
        "\n",
        "#create a list of values for the pie chart \n",
        "values = recipient_df['count']\n",
        "\n",
        "#plot the pie chart \n",
        "plt.pie(values, labels=labels, autopct='%1.1f%%')\n",
        "\n",
        "plt.title('Distribution of Recipient Types')\n",
        "plt.show()"
      ],
      "metadata": {
        "colab": {
          "base_uri": "https://localhost:8080/",
          "height": 235
        },
        "id": "SItWiecDojEe",
        "outputId": "3d03eb65-abb4-48d3-fcca-def5eba819bd"
      },
      "execution_count": 6,
      "outputs": [
        {
          "output_type": "error",
          "ename": "NameError",
          "evalue": "ignored",
          "traceback": [
            "\u001b[0;31m---------------------------------------------------------------------------\u001b[0m",
            "\u001b[0;31mNameError\u001b[0m                                 Traceback (most recent call last)",
            "\u001b[0;32m<ipython-input-6-c7f209f85771>\u001b[0m in \u001b[0;36m<cell line: 2>\u001b[0;34m()\u001b[0m\n\u001b[1;32m      1\u001b[0m \u001b[0;31m#create a list of labels for the pie chart\u001b[0m\u001b[0;34m\u001b[0m\u001b[0;34m\u001b[0m\u001b[0m\n\u001b[0;32m----> 2\u001b[0;31m \u001b[0mlabels\u001b[0m \u001b[0;34m=\u001b[0m \u001b[0mlist\u001b[0m\u001b[0;34m(\u001b[0m\u001b[0mrecipient_df\u001b[0m\u001b[0;34m[\u001b[0m\u001b[0;34m'rtype'\u001b[0m\u001b[0;34m]\u001b[0m\u001b[0;34m)\u001b[0m  \u001b[0;31m# Introducing list() to convert the column to a list\u001b[0m\u001b[0;34m\u001b[0m\u001b[0;34m\u001b[0m\u001b[0m\n\u001b[0m\u001b[1;32m      3\u001b[0m \u001b[0;34m\u001b[0m\u001b[0m\n\u001b[1;32m      4\u001b[0m \u001b[0;31m#create a list of values for the pie chart\u001b[0m\u001b[0;34m\u001b[0m\u001b[0;34m\u001b[0m\u001b[0m\n\u001b[1;32m      5\u001b[0m \u001b[0mvalues\u001b[0m \u001b[0;34m=\u001b[0m \u001b[0mrecipient_df\u001b[0m\u001b[0;34m[\u001b[0m\u001b[0;34m'count'\u001b[0m\u001b[0;34m]\u001b[0m\u001b[0;34m\u001b[0m\u001b[0;34m\u001b[0m\u001b[0m\n",
            "\u001b[0;31mNameError\u001b[0m: name 'recipient_df' is not defined"
          ]
        }
      ]
    },
    {
      "cell_type": "markdown",
      "source": [
        " here a type error was encountered.The object cannot be utilized as a function since it is not callable, as indicated by the error message. As the \"rtype\" column is already a Series object and can be used directly as the labels, the solution to this mistake is as simple as removing the list() function call when assigning the \"labels\" variable."
      ],
      "metadata": {
        "id": "Xf13cCQopJfK"
      }
    }
  ]
}